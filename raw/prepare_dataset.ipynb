{
 "cells": [
  {
   "cell_type": "markdown",
   "metadata": {},
   "source": [
    "## Import"
   ]
  },
  {
   "cell_type": "code",
   "execution_count": 2,
   "metadata": {},
   "outputs": [],
   "source": [
    "import pandas as pd\n",
    "from hashlib import md5, sha256\n",
    "import re"
   ]
  },
  {
   "cell_type": "markdown",
   "metadata": {},
   "source": [
    "## Read and checkout dataset"
   ]
  },
  {
   "cell_type": "code",
   "execution_count": 3,
   "metadata": {},
   "outputs": [
    {
     "name": "stdout",
     "output_type": "stream",
     "text": [
      "<class 'pandas.core.frame.DataFrame'>\n",
      "RangeIndex: 707 entries, 0 to 706\n",
      "Data columns (total 9 columns):\n",
      " #   Column      Non-Null Count  Dtype  \n",
      "---  ------      --------------  -----  \n",
      " 0   Context     447 non-null    object \n",
      " 1   Question    692 non-null    object \n",
      " 2   Answer 1    692 non-null    object \n",
      " 3   Answer 2    0 non-null      float64\n",
      " 4   Unnamed: 4  20 non-null     object \n",
      " 5   Unnamed: 5  0 non-null      float64\n",
      " 6   Number      684 non-null    float64\n",
      " 7   Date        6 non-null      float64\n",
      " 8   Span        2 non-null      float64\n",
      "dtypes: float64(5), object(4)\n",
      "memory usage: 49.8+ KB\n"
     ]
    }
   ],
   "source": [
    "df = pd.read_excel('Lop2_Extend.xlsx', header=[0])\n",
    "df.info()"
   ]
  },
  {
   "cell_type": "code",
   "execution_count": 4,
   "metadata": {},
   "outputs": [
    {
     "name": "stdout",
     "output_type": "stream",
     "text": [
      "<class 'pandas.core.frame.DataFrame'>\n",
      "MultiIndex: 707 entries, ('Một của hàng buổi sáng bán được 12 xe đạp, buổi chiều bán được 20 xe đạp.', ' Hỏi hai buổi cửa hàng bán được tất cả bao nhiêu xe đạp ?') to ('Hoa cân nặng 32kg, Mỹ cân nặng hơn Hoa 9kg.', 'Hỏi Mỹ cân nặng bao nhiêu ki-lô-gam ?')\n",
      "Data columns (total 7 columns):\n",
      " #   Column      Non-Null Count  Dtype  \n",
      "---  ------      --------------  -----  \n",
      " 0   Answer 1    692 non-null    object \n",
      " 1   Answer 2    0 non-null      float64\n",
      " 2   Unnamed: 4  20 non-null     object \n",
      " 3   Unnamed: 5  0 non-null      float64\n",
      " 4   Number      684 non-null    float64\n",
      " 5   Date        6 non-null      float64\n",
      " 6   Span        2 non-null      float64\n",
      "dtypes: float64(5), object(2)\n",
      "memory usage: 47.5+ KB\n"
     ]
    }
   ],
   "source": [
    "df = pd.read_excel('Lop2_Extend.xlsx', header=[0], index_col=[0, 1])\n",
    "df.info()"
   ]
  },
  {
   "cell_type": "code",
   "execution_count": 5,
   "metadata": {},
   "outputs": [
    {
     "data": {
      "text/plain": "                                                                                                      Answer 1  \\\nContext                                            Question                                                      \nMột của hàng buổi sáng bán được 12 xe đạp, buổi...  Hỏi hai buổi cửa hàng bán được tất cả bao nhiê...       32   \n                                                    Hỏi cửa hàng buổi chiều bán được nhiều hơn buổ...        8   \n                                                    Hỏi cửa hàng buổi sáng bán được ít hơn buổi ch...        8   \nMột của hàng sáng sớm bán được 12 xe đạp, xế ch...  Hỏi hai buổi cửa hàng bán được tất cả bao nhiê...       32   \n                                                    Hỏi cửa hàng buổi chiều bán được nhiều hơn buổ...        8   \n\n                                                                                                       Answer 2  \\\nContext                                            Question                                                       \nMột của hàng buổi sáng bán được 12 xe đạp, buổi...  Hỏi hai buổi cửa hàng bán được tất cả bao nhiê...       NaN   \n                                                    Hỏi cửa hàng buổi chiều bán được nhiều hơn buổ...       NaN   \n                                                    Hỏi cửa hàng buổi sáng bán được ít hơn buổi ch...       NaN   \nMột của hàng sáng sớm bán được 12 xe đạp, xế ch...  Hỏi hai buổi cửa hàng bán được tất cả bao nhiê...       NaN   \n                                                    Hỏi cửa hàng buổi chiều bán được nhiều hơn buổ...       NaN   \n\n                                                                                                      Unnamed: 4  \\\nContext                                            Question                                                        \nMột của hàng buổi sáng bán được 12 xe đạp, buổi...  Hỏi hai buổi cửa hàng bán được tất cả bao nhiê...        NaN   \n                                                    Hỏi cửa hàng buổi chiều bán được nhiều hơn buổ...        NaN   \n                                                    Hỏi cửa hàng buổi sáng bán được ít hơn buổi ch...        NaN   \nMột của hàng sáng sớm bán được 12 xe đạp, xế ch...  Hỏi hai buổi cửa hàng bán được tất cả bao nhiê...        NaN   \n                                                    Hỏi cửa hàng buổi chiều bán được nhiều hơn buổ...        NaN   \n\n                                                                                                       Unnamed: 5  \\\nContext                                            Question                                                         \nMột của hàng buổi sáng bán được 12 xe đạp, buổi...  Hỏi hai buổi cửa hàng bán được tất cả bao nhiê...         NaN   \n                                                    Hỏi cửa hàng buổi chiều bán được nhiều hơn buổ...         NaN   \n                                                    Hỏi cửa hàng buổi sáng bán được ít hơn buổi ch...         NaN   \nMột của hàng sáng sớm bán được 12 xe đạp, xế ch...  Hỏi hai buổi cửa hàng bán được tất cả bao nhiê...         NaN   \n                                                    Hỏi cửa hàng buổi chiều bán được nhiều hơn buổ...         NaN   \n\n                                                                                                       Number  \\\nContext                                            Question                                                     \nMột của hàng buổi sáng bán được 12 xe đạp, buổi...  Hỏi hai buổi cửa hàng bán được tất cả bao nhiê...     1.0   \n                                                    Hỏi cửa hàng buổi chiều bán được nhiều hơn buổ...     1.0   \n                                                    Hỏi cửa hàng buổi sáng bán được ít hơn buổi ch...     1.0   \nMột của hàng sáng sớm bán được 12 xe đạp, xế ch...  Hỏi hai buổi cửa hàng bán được tất cả bao nhiê...     1.0   \n                                                    Hỏi cửa hàng buổi chiều bán được nhiều hơn buổ...     1.0   \n\n                                                                                                       Date  \\\nContext                                            Question                                                   \nMột của hàng buổi sáng bán được 12 xe đạp, buổi...  Hỏi hai buổi cửa hàng bán được tất cả bao nhiê...   NaN   \n                                                    Hỏi cửa hàng buổi chiều bán được nhiều hơn buổ...   NaN   \n                                                    Hỏi cửa hàng buổi sáng bán được ít hơn buổi ch...   NaN   \nMột của hàng sáng sớm bán được 12 xe đạp, xế ch...  Hỏi hai buổi cửa hàng bán được tất cả bao nhiê...   NaN   \n                                                    Hỏi cửa hàng buổi chiều bán được nhiều hơn buổ...   NaN   \n\n                                                                                                       Span  \nContext                                            Question                                                  \nMột của hàng buổi sáng bán được 12 xe đạp, buổi...  Hỏi hai buổi cửa hàng bán được tất cả bao nhiê...   NaN  \n                                                    Hỏi cửa hàng buổi chiều bán được nhiều hơn buổ...   NaN  \n                                                    Hỏi cửa hàng buổi sáng bán được ít hơn buổi ch...   NaN  \nMột của hàng sáng sớm bán được 12 xe đạp, xế ch...  Hỏi hai buổi cửa hàng bán được tất cả bao nhiê...   NaN  \n                                                    Hỏi cửa hàng buổi chiều bán được nhiều hơn buổ...   NaN  ",
      "text/html": "<div>\n<style scoped>\n    .dataframe tbody tr th:only-of-type {\n        vertical-align: middle;\n    }\n\n    .dataframe tbody tr th {\n        vertical-align: top;\n    }\n\n    .dataframe thead th {\n        text-align: right;\n    }\n</style>\n<table border=\"1\" class=\"dataframe\">\n  <thead>\n    <tr style=\"text-align: right;\">\n      <th></th>\n      <th></th>\n      <th>Answer 1</th>\n      <th>Answer 2</th>\n      <th>Unnamed: 4</th>\n      <th>Unnamed: 5</th>\n      <th>Number</th>\n      <th>Date</th>\n      <th>Span</th>\n    </tr>\n    <tr>\n      <th>Context</th>\n      <th>Question</th>\n      <th></th>\n      <th></th>\n      <th></th>\n      <th></th>\n      <th></th>\n      <th></th>\n      <th></th>\n    </tr>\n  </thead>\n  <tbody>\n    <tr>\n      <th rowspan=\"3\" valign=\"top\">Một của hàng buổi sáng bán được 12 xe đạp, buổi chiều bán được 20 xe đạp.</th>\n      <th>Hỏi hai buổi cửa hàng bán được tất cả bao nhiêu xe đạp ?</th>\n      <td>32</td>\n      <td>NaN</td>\n      <td>NaN</td>\n      <td>NaN</td>\n      <td>1.0</td>\n      <td>NaN</td>\n      <td>NaN</td>\n    </tr>\n    <tr>\n      <th>Hỏi cửa hàng buổi chiều bán được nhiều hơn buổi sáng bao nhiêu xe đạp ?</th>\n      <td>8</td>\n      <td>NaN</td>\n      <td>NaN</td>\n      <td>NaN</td>\n      <td>1.0</td>\n      <td>NaN</td>\n      <td>NaN</td>\n    </tr>\n    <tr>\n      <th>Hỏi cửa hàng buổi sáng bán được ít hơn buổi chiều bao nhiêu xe đạp ?</th>\n      <td>8</td>\n      <td>NaN</td>\n      <td>NaN</td>\n      <td>NaN</td>\n      <td>1.0</td>\n      <td>NaN</td>\n      <td>NaN</td>\n    </tr>\n    <tr>\n      <th rowspan=\"2\" valign=\"top\">Một của hàng sáng sớm bán được 12 xe đạp, xế chiều bán được 20 xe đạp.</th>\n      <th>Hỏi hai buổi cửa hàng bán được tất cả bao nhiêu xe đạp ?</th>\n      <td>32</td>\n      <td>NaN</td>\n      <td>NaN</td>\n      <td>NaN</td>\n      <td>1.0</td>\n      <td>NaN</td>\n      <td>NaN</td>\n    </tr>\n    <tr>\n      <th>Hỏi cửa hàng buổi chiều bán được nhiều hơn buổi sáng bao nhiêu xe đạp ?</th>\n      <td>8</td>\n      <td>NaN</td>\n      <td>NaN</td>\n      <td>NaN</td>\n      <td>1.0</td>\n      <td>NaN</td>\n      <td>NaN</td>\n    </tr>\n  </tbody>\n</table>\n</div>"
     },
     "execution_count": 5,
     "metadata": {},
     "output_type": "execute_result"
    }
   ],
   "source": [
    "df.head()"
   ]
  },
  {
   "cell_type": "markdown",
   "metadata": {},
   "source": [
    "## Processing"
   ]
  },
  {
   "cell_type": "markdown",
   "metadata": {},
   "source": [
    "### Cleaning"
   ]
  },
  {
   "cell_type": "code",
   "execution_count": 6,
   "metadata": {},
   "outputs": [
    {
     "data": {
      "text/plain": "                                                                                                      Answer  \\\nContext                                            Question                                                    \nMột của hàng buổi sáng bán được 12 xe đạp, buổi...  Hỏi hai buổi cửa hàng bán được tất cả bao nhiê...     32   \n                                                    Hỏi cửa hàng buổi chiều bán được nhiều hơn buổ...      8   \n                                                    Hỏi cửa hàng buổi sáng bán được ít hơn buổi ch...      8   \nMột của hàng sáng sớm bán được 12 xe đạp, xế ch...  Hỏi hai buổi cửa hàng bán được tất cả bao nhiê...     32   \n                                                    Hỏi cửa hàng buổi chiều bán được nhiều hơn buổ...      8   \n\n                                                                                                       Number  \\\nContext                                            Question                                                     \nMột của hàng buổi sáng bán được 12 xe đạp, buổi...  Hỏi hai buổi cửa hàng bán được tất cả bao nhiê...     1.0   \n                                                    Hỏi cửa hàng buổi chiều bán được nhiều hơn buổ...     1.0   \n                                                    Hỏi cửa hàng buổi sáng bán được ít hơn buổi ch...     1.0   \nMột của hàng sáng sớm bán được 12 xe đạp, xế ch...  Hỏi hai buổi cửa hàng bán được tất cả bao nhiê...     1.0   \n                                                    Hỏi cửa hàng buổi chiều bán được nhiều hơn buổ...     1.0   \n\n                                                                                                       Date  \\\nContext                                            Question                                                   \nMột của hàng buổi sáng bán được 12 xe đạp, buổi...  Hỏi hai buổi cửa hàng bán được tất cả bao nhiê...   NaN   \n                                                    Hỏi cửa hàng buổi chiều bán được nhiều hơn buổ...   NaN   \n                                                    Hỏi cửa hàng buổi sáng bán được ít hơn buổi ch...   NaN   \nMột của hàng sáng sớm bán được 12 xe đạp, xế ch...  Hỏi hai buổi cửa hàng bán được tất cả bao nhiê...   NaN   \n                                                    Hỏi cửa hàng buổi chiều bán được nhiều hơn buổ...   NaN   \n\n                                                                                                       Spans  \nContext                                            Question                                                   \nMột của hàng buổi sáng bán được 12 xe đạp, buổi...  Hỏi hai buổi cửa hàng bán được tất cả bao nhiê...    NaN  \n                                                    Hỏi cửa hàng buổi chiều bán được nhiều hơn buổ...    NaN  \n                                                    Hỏi cửa hàng buổi sáng bán được ít hơn buổi ch...    NaN  \nMột của hàng sáng sớm bán được 12 xe đạp, xế ch...  Hỏi hai buổi cửa hàng bán được tất cả bao nhiê...    NaN  \n                                                    Hỏi cửa hàng buổi chiều bán được nhiều hơn buổ...    NaN  ",
      "text/html": "<div>\n<style scoped>\n    .dataframe tbody tr th:only-of-type {\n        vertical-align: middle;\n    }\n\n    .dataframe tbody tr th {\n        vertical-align: top;\n    }\n\n    .dataframe thead th {\n        text-align: right;\n    }\n</style>\n<table border=\"1\" class=\"dataframe\">\n  <thead>\n    <tr style=\"text-align: right;\">\n      <th></th>\n      <th></th>\n      <th>Answer</th>\n      <th>Number</th>\n      <th>Date</th>\n      <th>Spans</th>\n    </tr>\n    <tr>\n      <th>Context</th>\n      <th>Question</th>\n      <th></th>\n      <th></th>\n      <th></th>\n      <th></th>\n    </tr>\n  </thead>\n  <tbody>\n    <tr>\n      <th rowspan=\"3\" valign=\"top\">Một của hàng buổi sáng bán được 12 xe đạp, buổi chiều bán được 20 xe đạp.</th>\n      <th>Hỏi hai buổi cửa hàng bán được tất cả bao nhiêu xe đạp ?</th>\n      <td>32</td>\n      <td>1.0</td>\n      <td>NaN</td>\n      <td>NaN</td>\n    </tr>\n    <tr>\n      <th>Hỏi cửa hàng buổi chiều bán được nhiều hơn buổi sáng bao nhiêu xe đạp ?</th>\n      <td>8</td>\n      <td>1.0</td>\n      <td>NaN</td>\n      <td>NaN</td>\n    </tr>\n    <tr>\n      <th>Hỏi cửa hàng buổi sáng bán được ít hơn buổi chiều bao nhiêu xe đạp ?</th>\n      <td>8</td>\n      <td>1.0</td>\n      <td>NaN</td>\n      <td>NaN</td>\n    </tr>\n    <tr>\n      <th rowspan=\"2\" valign=\"top\">Một của hàng sáng sớm bán được 12 xe đạp, xế chiều bán được 20 xe đạp.</th>\n      <th>Hỏi hai buổi cửa hàng bán được tất cả bao nhiêu xe đạp ?</th>\n      <td>32</td>\n      <td>1.0</td>\n      <td>NaN</td>\n      <td>NaN</td>\n    </tr>\n    <tr>\n      <th>Hỏi cửa hàng buổi chiều bán được nhiều hơn buổi sáng bao nhiêu xe đạp ?</th>\n      <td>8</td>\n      <td>1.0</td>\n      <td>NaN</td>\n      <td>NaN</td>\n    </tr>\n  </tbody>\n</table>\n</div>"
     },
     "execution_count": 6,
     "metadata": {},
     "output_type": "execute_result"
    }
   ],
   "source": [
    "df = df[['Answer 1', 'Number', 'Date', 'Span']]\n",
    "df.rename(columns={'Answer 1': 'Answer', 'Span': 'Spans'}, inplace=True)\n",
    "df.head()"
   ]
  },
  {
   "cell_type": "code",
   "execution_count": 7,
   "metadata": {},
   "outputs": [
    {
     "name": "stdout",
     "output_type": "stream",
     "text": [
      "(692, 4)\n",
      "<class 'pandas.core.frame.DataFrame'>\n",
      "MultiIndex: 692 entries, ('Một của hàng buổi sáng bán được 12 xe đạp, buổi chiều bán được 20 xe đạp.', ' Hỏi hai buổi cửa hàng bán được tất cả bao nhiêu xe đạp ?') to ('Hoa cân nặng 32kg, Mỹ cân nặng hơn Hoa 9kg.', 'Hỏi Mỹ cân nặng bao nhiêu ki-lô-gam ?')\n",
      "Data columns (total 4 columns):\n",
      " #   Column  Non-Null Count  Dtype  \n",
      "---  ------  --------------  -----  \n",
      " 0   Answer  692 non-null    object \n",
      " 1   Number  684 non-null    float64\n",
      " 2   Date    6 non-null      float64\n",
      " 3   Spans   2 non-null      float64\n",
      "dtypes: float64(3), object(1)\n",
      "memory usage: 30.4+ KB\n"
     ]
    }
   ],
   "source": [
    "df.dropna(how='all', inplace=True)\n",
    "print(df.shape)\n",
    "df.info()"
   ]
  },
  {
   "cell_type": "code",
   "execution_count": 8,
   "metadata": {},
   "outputs": [
    {
     "name": "stdout",
     "output_type": "stream",
     "text": [
      "<class 'pandas.core.frame.DataFrame'>\n",
      "MultiIndex: 692 entries, ('Một của hàng buổi sáng bán được 12 xe đạp, buổi chiều bán được 20 xe đạp.', ' Hỏi hai buổi cửa hàng bán được tất cả bao nhiêu xe đạp ?') to ('Hoa cân nặng 32kg, Mỹ cân nặng hơn Hoa 9kg.', 'Hỏi Mỹ cân nặng bao nhiêu ki-lô-gam ?')\n",
      "Data columns (total 4 columns):\n",
      " #   Column  Non-Null Count  Dtype  \n",
      "---  ------  --------------  -----  \n",
      " 0   Answer  692 non-null    object \n",
      " 1   Number  692 non-null    float64\n",
      " 2   Date    692 non-null    float64\n",
      " 3   Spans   692 non-null    float64\n",
      "dtypes: float64(3), object(1)\n",
      "memory usage: 30.4+ KB\n"
     ]
    }
   ],
   "source": [
    "df['Number'].fillna(0, inplace=True)\n",
    "df['Spans'].fillna(0, inplace=True)\n",
    "df['Date'].fillna(0, inplace=True)\n",
    "df.info()"
   ]
  },
  {
   "cell_type": "code",
   "execution_count": 9,
   "metadata": {},
   "outputs": [
    {
     "name": "stdout",
     "output_type": "stream",
     "text": [
      "True     684\n",
      "False      8\n",
      "Name: Number, dtype: int64\n",
      "False    690\n",
      "True       2\n",
      "Name: Spans, dtype: int64\n",
      "False    686\n",
      "True       6\n",
      "Name: Date, dtype: int64\n"
     ]
    }
   ],
   "source": [
    "df['Number'] = df['Number'].astype(bool)\n",
    "df['Spans'] = df['Spans'].astype(bool)\n",
    "df['Date'] = df['Date'].astype(bool)\n",
    "print(df.Number.value_counts())\n",
    "print(df.Spans.value_counts())\n",
    "print(df.Date.value_counts())"
   ]
  },
  {
   "cell_type": "code",
   "execution_count": 10,
   "metadata": {},
   "outputs": [
    {
     "name": "stdout",
     "output_type": "stream",
     "text": [
      "<class 'pandas.core.frame.DataFrame'>\n",
      "RangeIndex: 692 entries, 0 to 691\n",
      "Data columns (total 6 columns):\n",
      " #   Column    Non-Null Count  Dtype \n",
      "---  ------    --------------  ----- \n",
      " 0   Context   692 non-null    object\n",
      " 1   Question  692 non-null    object\n",
      " 2   Answer    692 non-null    object\n",
      " 3   Number    692 non-null    bool  \n",
      " 4   Date      692 non-null    bool  \n",
      " 5   Spans     692 non-null    bool  \n",
      "dtypes: bool(3), object(3)\n",
      "memory usage: 18.4+ KB\n"
     ]
    }
   ],
   "source": [
    "df.reset_index(inplace=True)\n",
    "df.info()"
   ]
  },
  {
   "cell_type": "code",
   "execution_count": 11,
   "metadata": {},
   "outputs": [
    {
     "data": {
      "text/plain": "                                                                                                      Answer  \\\nContext                                            Question                                                    \nMột của hàng buổi sáng bán được 12 xe đạp, buổi... Hỏi hai buổi cửa hàng bán được tất cả bao nhiêu...     32   \n                                                   Hỏi cửa hàng buổi chiều bán được nhiều hơn buổi...      8   \n                                                   Hỏi cửa hàng buổi sáng bán được ít hơn buổi chi...      8   \nMột của hàng sáng sớm bán được 12 xe đạp, xế ch... Hỏi hai buổi cửa hàng bán được tất cả bao nhiêu...     32   \n                                                   Hỏi cửa hàng buổi chiều bán được nhiều hơn buổi...      8   \n\n                                                                                                       Number  \\\nContext                                            Question                                                     \nMột của hàng buổi sáng bán được 12 xe đạp, buổi... Hỏi hai buổi cửa hàng bán được tất cả bao nhiêu...    True   \n                                                   Hỏi cửa hàng buổi chiều bán được nhiều hơn buổi...    True   \n                                                   Hỏi cửa hàng buổi sáng bán được ít hơn buổi chi...    True   \nMột của hàng sáng sớm bán được 12 xe đạp, xế ch... Hỏi hai buổi cửa hàng bán được tất cả bao nhiêu...    True   \n                                                   Hỏi cửa hàng buổi chiều bán được nhiều hơn buổi...    True   \n\n                                                                                                        Date  \\\nContext                                            Question                                                    \nMột của hàng buổi sáng bán được 12 xe đạp, buổi... Hỏi hai buổi cửa hàng bán được tất cả bao nhiêu...  False   \n                                                   Hỏi cửa hàng buổi chiều bán được nhiều hơn buổi...  False   \n                                                   Hỏi cửa hàng buổi sáng bán được ít hơn buổi chi...  False   \nMột của hàng sáng sớm bán được 12 xe đạp, xế ch... Hỏi hai buổi cửa hàng bán được tất cả bao nhiêu...  False   \n                                                   Hỏi cửa hàng buổi chiều bán được nhiều hơn buổi...  False   \n\n                                                                                                       Spans  \nContext                                            Question                                                   \nMột của hàng buổi sáng bán được 12 xe đạp, buổi... Hỏi hai buổi cửa hàng bán được tất cả bao nhiêu...  False  \n                                                   Hỏi cửa hàng buổi chiều bán được nhiều hơn buổi...  False  \n                                                   Hỏi cửa hàng buổi sáng bán được ít hơn buổi chi...  False  \nMột của hàng sáng sớm bán được 12 xe đạp, xế ch... Hỏi hai buổi cửa hàng bán được tất cả bao nhiêu...  False  \n                                                   Hỏi cửa hàng buổi chiều bán được nhiều hơn buổi...  False  ",
      "text/html": "<div>\n<style scoped>\n    .dataframe tbody tr th:only-of-type {\n        vertical-align: middle;\n    }\n\n    .dataframe tbody tr th {\n        vertical-align: top;\n    }\n\n    .dataframe thead th {\n        text-align: right;\n    }\n</style>\n<table border=\"1\" class=\"dataframe\">\n  <thead>\n    <tr style=\"text-align: right;\">\n      <th></th>\n      <th></th>\n      <th>Answer</th>\n      <th>Number</th>\n      <th>Date</th>\n      <th>Spans</th>\n    </tr>\n    <tr>\n      <th>Context</th>\n      <th>Question</th>\n      <th></th>\n      <th></th>\n      <th></th>\n      <th></th>\n    </tr>\n  </thead>\n  <tbody>\n    <tr>\n      <th rowspan=\"3\" valign=\"top\">Một của hàng buổi sáng bán được 12 xe đạp, buổi chiều bán được 20 xe đạp.</th>\n      <th>Hỏi hai buổi cửa hàng bán được tất cả bao nhiêu xe đạp ?</th>\n      <td>32</td>\n      <td>True</td>\n      <td>False</td>\n      <td>False</td>\n    </tr>\n    <tr>\n      <th>Hỏi cửa hàng buổi chiều bán được nhiều hơn buổi sáng bao nhiêu xe đạp ?</th>\n      <td>8</td>\n      <td>True</td>\n      <td>False</td>\n      <td>False</td>\n    </tr>\n    <tr>\n      <th>Hỏi cửa hàng buổi sáng bán được ít hơn buổi chiều bao nhiêu xe đạp ?</th>\n      <td>8</td>\n      <td>True</td>\n      <td>False</td>\n      <td>False</td>\n    </tr>\n    <tr>\n      <th rowspan=\"2\" valign=\"top\">Một của hàng sáng sớm bán được 12 xe đạp, xế chiều bán được 20 xe đạp.</th>\n      <th>Hỏi hai buổi cửa hàng bán được tất cả bao nhiêu xe đạp ?</th>\n      <td>32</td>\n      <td>True</td>\n      <td>False</td>\n      <td>False</td>\n    </tr>\n    <tr>\n      <th>Hỏi cửa hàng buổi chiều bán được nhiều hơn buổi sáng bao nhiêu xe đạp ?</th>\n      <td>8</td>\n      <td>True</td>\n      <td>False</td>\n      <td>False</td>\n    </tr>\n  </tbody>\n</table>\n</div>"
     },
     "execution_count": 11,
     "metadata": {},
     "output_type": "execute_result"
    }
   ],
   "source": [
    "df['Context'] = df['Context'].str.strip()\n",
    "df['Question'] = df['Question'].str.strip()\n",
    "df['Answer'] = df['Answer'].astype(str).str.strip()\n",
    "df.set_index(['Context', 'Question'], inplace=True)\n",
    "df.head()"
   ]
  },
  {
   "cell_type": "code",
   "execution_count": 12,
   "metadata": {},
   "outputs": [
    {
     "data": {
      "text/plain": "                                               Context  \\\n612                         Ngày 1 tháng 12 là thứ hai   \n614                 Tuần này, thứ 7 là ngày 3 tháng 12   \n616                 Tuần này, thứ 2 là ngày 1 tháng 12   \n617  Thứ năm tuần này là ngày 22 tháng 4. Thứ năm t...   \n683  Toàn đi học ở trường bán trú, mỗi ngày Toàn ở ...   \n684  Một trạm bơm phải bơm nước trong 6 giờ, bắt đầ...   \n\n                                   Question            Answer  Number  Date  \\\n612            Ngày 2 tháng 12 là thứ mấy ?            thứ ba   False  True   \n614   Tuần sau, thứ bảy là ngày bao nhiêu ?  ngày 10 tháng 12   False  True   \n616         Đến thứ 7 tuần sau sẽ là ngày ?   ngày 8 tháng 12   False  True   \n617      Thứ năm tuần sau là ngày thứ mấy ?  ngày 29 tháng 4.   False  True   \n683  Hỏi Toàn đến trường lúc mấy giờ sáng ?             8 giờ   False  True   \n684          Hỏi đến mấy giờ thì bơm xong ?       3 giờ chiều   False  True   \n\n     Spans  \n612  False  \n614  False  \n616  False  \n617  False  \n683  False  \n684  False  ",
      "text/html": "<div>\n<style scoped>\n    .dataframe tbody tr th:only-of-type {\n        vertical-align: middle;\n    }\n\n    .dataframe tbody tr th {\n        vertical-align: top;\n    }\n\n    .dataframe thead th {\n        text-align: right;\n    }\n</style>\n<table border=\"1\" class=\"dataframe\">\n  <thead>\n    <tr style=\"text-align: right;\">\n      <th></th>\n      <th>Context</th>\n      <th>Question</th>\n      <th>Answer</th>\n      <th>Number</th>\n      <th>Date</th>\n      <th>Spans</th>\n    </tr>\n  </thead>\n  <tbody>\n    <tr>\n      <th>612</th>\n      <td>Ngày 1 tháng 12 là thứ hai</td>\n      <td>Ngày 2 tháng 12 là thứ mấy ?</td>\n      <td>thứ ba</td>\n      <td>False</td>\n      <td>True</td>\n      <td>False</td>\n    </tr>\n    <tr>\n      <th>614</th>\n      <td>Tuần này, thứ 7 là ngày 3 tháng 12</td>\n      <td>Tuần sau, thứ bảy là ngày bao nhiêu ?</td>\n      <td>ngày 10 tháng 12</td>\n      <td>False</td>\n      <td>True</td>\n      <td>False</td>\n    </tr>\n    <tr>\n      <th>616</th>\n      <td>Tuần này, thứ 2 là ngày 1 tháng 12</td>\n      <td>Đến thứ 7 tuần sau sẽ là ngày ?</td>\n      <td>ngày 8 tháng 12</td>\n      <td>False</td>\n      <td>True</td>\n      <td>False</td>\n    </tr>\n    <tr>\n      <th>617</th>\n      <td>Thứ năm tuần này là ngày 22 tháng 4. Thứ năm t...</td>\n      <td>Thứ năm tuần sau là ngày thứ mấy ?</td>\n      <td>ngày 29 tháng 4.</td>\n      <td>False</td>\n      <td>True</td>\n      <td>False</td>\n    </tr>\n    <tr>\n      <th>683</th>\n      <td>Toàn đi học ở trường bán trú, mỗi ngày Toàn ở ...</td>\n      <td>Hỏi Toàn đến trường lúc mấy giờ sáng ?</td>\n      <td>8 giờ</td>\n      <td>False</td>\n      <td>True</td>\n      <td>False</td>\n    </tr>\n    <tr>\n      <th>684</th>\n      <td>Một trạm bơm phải bơm nước trong 6 giờ, bắt đầ...</td>\n      <td>Hỏi đến mấy giờ thì bơm xong ?</td>\n      <td>3 giờ chiều</td>\n      <td>False</td>\n      <td>True</td>\n      <td>False</td>\n    </tr>\n  </tbody>\n</table>\n</div>"
     },
     "execution_count": 12,
     "metadata": {},
     "output_type": "execute_result"
    }
   ],
   "source": [
    "df = df.reset_index()\n",
    "df[df['Date']==True]"
   ]
  },
  {
   "cell_type": "code",
   "execution_count": 13,
   "metadata": {},
   "outputs": [
    {
     "data": {
      "text/plain": "                                               Context  \\\n614                 Tuần này, thứ 7 là ngày 3 tháng 12   \n616                 Tuần này, thứ 2 là ngày 1 tháng 12   \n617  Thứ năm tuần này là ngày 22 tháng 4. Thứ năm t...   \n\n                                  Question            Answer  Number  Date  \\\n614  Tuần sau, thứ bảy là ngày bao nhiêu ?  ngày 10 tháng 12   False  True   \n616        Đến thứ 7 tuần sau sẽ là ngày ?   ngày 8 tháng 12   False  True   \n617     Thứ năm tuần sau là ngày thứ mấy ?  ngày 29 tháng 4.   False  True   \n\n     Spans  \n614  False  \n616  False  \n617  False  ",
      "text/html": "<div>\n<style scoped>\n    .dataframe tbody tr th:only-of-type {\n        vertical-align: middle;\n    }\n\n    .dataframe tbody tr th {\n        vertical-align: top;\n    }\n\n    .dataframe thead th {\n        text-align: right;\n    }\n</style>\n<table border=\"1\" class=\"dataframe\">\n  <thead>\n    <tr style=\"text-align: right;\">\n      <th></th>\n      <th>Context</th>\n      <th>Question</th>\n      <th>Answer</th>\n      <th>Number</th>\n      <th>Date</th>\n      <th>Spans</th>\n    </tr>\n  </thead>\n  <tbody>\n    <tr>\n      <th>614</th>\n      <td>Tuần này, thứ 7 là ngày 3 tháng 12</td>\n      <td>Tuần sau, thứ bảy là ngày bao nhiêu ?</td>\n      <td>ngày 10 tháng 12</td>\n      <td>False</td>\n      <td>True</td>\n      <td>False</td>\n    </tr>\n    <tr>\n      <th>616</th>\n      <td>Tuần này, thứ 2 là ngày 1 tháng 12</td>\n      <td>Đến thứ 7 tuần sau sẽ là ngày ?</td>\n      <td>ngày 8 tháng 12</td>\n      <td>False</td>\n      <td>True</td>\n      <td>False</td>\n    </tr>\n    <tr>\n      <th>617</th>\n      <td>Thứ năm tuần này là ngày 22 tháng 4. Thứ năm t...</td>\n      <td>Thứ năm tuần sau là ngày thứ mấy ?</td>\n      <td>ngày 29 tháng 4.</td>\n      <td>False</td>\n      <td>True</td>\n      <td>False</td>\n    </tr>\n  </tbody>\n</table>\n</div>"
     },
     "execution_count": 13,
     "metadata": {},
     "output_type": "execute_result"
    }
   ],
   "source": [
    "df.loc[683, 'Answer'] = '8'\n",
    "df.loc[683, 'Number'] = True\n",
    "df.loc[683, 'Date'] = False\n",
    "df.loc[684, 'Answer'] = '15'\n",
    "df.loc[684, 'Number'] = True\n",
    "df.loc[684, 'Date'] = False\n",
    "df.loc[612, 'Answer'] = '3'\n",
    "df.loc[612, 'Number'] = True\n",
    "df.loc[612, 'Date'] = False\n",
    "df[df['Date']==True]"
   ]
  },
  {
   "cell_type": "markdown",
   "metadata": {},
   "source": [
    "### Preparing dataset"
   ]
  },
  {
   "cell_type": "code",
   "execution_count": 14,
   "metadata": {},
   "outputs": [],
   "source": [
    "hasher = md5()\n",
    "def func(question: str, answer: str, is_num: bool, is_date: bool, is_span: bool) -> dict:\n",
    "    assert is_num + is_date + is_span == 1\n",
    "    res = dict()\n",
    "    res['question'] = question\n",
    "    \n",
    "    hasher.update(question.encode('utf-8'))\n",
    "    res['query_id'] = hasher.hexdigest()\n",
    "    \n",
    "    res['answer'] = {\n",
    "        'number': '',\n",
    "        'date': {\n",
    "            'day': '',\n",
    "            'month': '',\n",
    "            'year': ''\n",
    "        },\n",
    "        'spans': ''\n",
    "    }\n",
    "    if is_num:\n",
    "        res['answer']['number'] = answer\n",
    "    elif is_date:\n",
    "        answer = re.sub('[^0-9]',' ', answer)\n",
    "        answer = re.sub(' {2}', ' ', answer)\n",
    "        answer = answer.strip().split()\n",
    "        if len(answer) == 1:\n",
    "            res['answer']['date']['day'] = answer[0]\n",
    "        if len(answer) == 2:\n",
    "            res['answer']['date']['month'] = answer[1]\n",
    "        if len(answer) == 3:\n",
    "            res['answer']['date']['year'] = answer[2]\n",
    "    elif is_span:\n",
    "        res['answer']['spans'] = answer\n",
    "    return res"
   ]
  },
  {
   "cell_type": "code",
   "execution_count": 15,
   "metadata": {},
   "outputs": [
    {
     "name": "stdout",
     "output_type": "stream",
     "text": [
      "{'question': 'Hỏi hai buổi cửa hàng bán được tất cả bao nhiêu xe đạp ?', 'query_id': 'edf9032321d5f4fac4295f62fe5f4435', 'answer': {'number': '32', 'date': {'day': '', 'month': '', 'year': ''}, 'spans': ''}}\n"
     ]
    },
    {
     "data": {
      "text/plain": "                                             Context  \\\n0  Một của hàng buổi sáng bán được 12 xe đạp, buổ...   \n1  Một của hàng buổi sáng bán được 12 xe đạp, buổ...   \n2  Một của hàng buổi sáng bán được 12 xe đạp, buổ...   \n3  Một của hàng sáng sớm bán được 12 xe đạp, xế c...   \n4  Một của hàng sáng sớm bán được 12 xe đạp, xế c...   \n\n                                                  QA  \n0  {'question': 'Hỏi hai buổi cửa hàng bán được t...  \n1  {'question': 'Hỏi cửa hàng buổi chiều bán được...  \n2  {'question': 'Hỏi cửa hàng buổi sáng bán được ...  \n3  {'question': 'Hỏi hai buổi cửa hàng bán được t...  \n4  {'question': 'Hỏi cửa hàng buổi chiều bán được...  ",
      "text/html": "<div>\n<style scoped>\n    .dataframe tbody tr th:only-of-type {\n        vertical-align: middle;\n    }\n\n    .dataframe tbody tr th {\n        vertical-align: top;\n    }\n\n    .dataframe thead th {\n        text-align: right;\n    }\n</style>\n<table border=\"1\" class=\"dataframe\">\n  <thead>\n    <tr style=\"text-align: right;\">\n      <th></th>\n      <th>Context</th>\n      <th>QA</th>\n    </tr>\n  </thead>\n  <tbody>\n    <tr>\n      <th>0</th>\n      <td>Một của hàng buổi sáng bán được 12 xe đạp, buổ...</td>\n      <td>{'question': 'Hỏi hai buổi cửa hàng bán được t...</td>\n    </tr>\n    <tr>\n      <th>1</th>\n      <td>Một của hàng buổi sáng bán được 12 xe đạp, buổ...</td>\n      <td>{'question': 'Hỏi cửa hàng buổi chiều bán được...</td>\n    </tr>\n    <tr>\n      <th>2</th>\n      <td>Một của hàng buổi sáng bán được 12 xe đạp, buổ...</td>\n      <td>{'question': 'Hỏi cửa hàng buổi sáng bán được ...</td>\n    </tr>\n    <tr>\n      <th>3</th>\n      <td>Một của hàng sáng sớm bán được 12 xe đạp, xế c...</td>\n      <td>{'question': 'Hỏi hai buổi cửa hàng bán được t...</td>\n    </tr>\n    <tr>\n      <th>4</th>\n      <td>Một của hàng sáng sớm bán được 12 xe đạp, xế c...</td>\n      <td>{'question': 'Hỏi cửa hàng buổi chiều bán được...</td>\n    </tr>\n  </tbody>\n</table>\n</div>"
     },
     "execution_count": 15,
     "metadata": {},
     "output_type": "execute_result"
    }
   ],
   "source": [
    "dataset = df\n",
    "dataset['QA'] = dataset.apply(lambda row: func(row.Question, row.Answer, row.Number, row.Date, row.Spans), axis=1)\n",
    "print(dataset.iloc[0]['QA'])\n",
    "dataset = dataset[['Context', 'QA']]\n",
    "dataset.head()"
   ]
  },
  {
   "cell_type": "code",
   "execution_count": 16,
   "metadata": {},
   "outputs": [
    {
     "data": {
      "text/plain": "                                Context  \\\n0    An cao 95cm, Bình thấp hơn An 5cm.   \n1       Anh 12 tuổi, anh hơn em 5 tuổi.   \n2    Anh 12 tuổi, em ít hơn anh 5 tuổi.   \n3       Anh 15 tuổi, Em kém anh 5 tuổi.   \n4  Anh cao 165cm, em thấp hơn anh 33cm.   \n\n                                                  QA  \n0  [{'question': 'Hỏi Bình cao bao nhiêu xăng-ti-...  \n1  [{'question': 'Hỏi cả hai anh em bao nhiêu tuổ...  \n2  [{'question': 'Hỏi em bao nhiêu tuổi ?', 'quer...  \n3  [{'question': 'Hỏi em bao nhiêu tuổi ?', 'quer...  \n4  [{'question': 'Hỏi em cao bao nhiêu xăng-ti-mé...  ",
      "text/html": "<div>\n<style scoped>\n    .dataframe tbody tr th:only-of-type {\n        vertical-align: middle;\n    }\n\n    .dataframe tbody tr th {\n        vertical-align: top;\n    }\n\n    .dataframe thead th {\n        text-align: right;\n    }\n</style>\n<table border=\"1\" class=\"dataframe\">\n  <thead>\n    <tr style=\"text-align: right;\">\n      <th></th>\n      <th>Context</th>\n      <th>QA</th>\n    </tr>\n  </thead>\n  <tbody>\n    <tr>\n      <th>0</th>\n      <td>An cao 95cm, Bình thấp hơn An 5cm.</td>\n      <td>[{'question': 'Hỏi Bình cao bao nhiêu xăng-ti-...</td>\n    </tr>\n    <tr>\n      <th>1</th>\n      <td>Anh 12 tuổi, anh hơn em 5 tuổi.</td>\n      <td>[{'question': 'Hỏi cả hai anh em bao nhiêu tuổ...</td>\n    </tr>\n    <tr>\n      <th>2</th>\n      <td>Anh 12 tuổi, em ít hơn anh 5 tuổi.</td>\n      <td>[{'question': 'Hỏi em bao nhiêu tuổi ?', 'quer...</td>\n    </tr>\n    <tr>\n      <th>3</th>\n      <td>Anh 15 tuổi, Em kém anh 5 tuổi.</td>\n      <td>[{'question': 'Hỏi em bao nhiêu tuổi ?', 'quer...</td>\n    </tr>\n    <tr>\n      <th>4</th>\n      <td>Anh cao 165cm, em thấp hơn anh 33cm.</td>\n      <td>[{'question': 'Hỏi em cao bao nhiêu xăng-ti-mé...</td>\n    </tr>\n  </tbody>\n</table>\n</div>"
     },
     "execution_count": 16,
     "metadata": {},
     "output_type": "execute_result"
    }
   ],
   "source": [
    "dataset = dataset.groupby('Context').QA.apply(list).reset_index()\n",
    "dataset.head()"
   ]
  },
  {
   "cell_type": "code",
   "execution_count": 17,
   "metadata": {},
   "outputs": [
    {
     "data": {
      "text/plain": "[{'question': 'Hỏi Bình cao bao nhiêu xăng-ti-mét ?',\n  'query_id': 'aed5d205bb20983a5f5fb92ddbeb2780',\n  'answer': {'number': '90',\n   'date': {'day': '', 'month': '', 'year': ''},\n   'spans': ''}},\n {'question': 'Hỏi cả hai bạn cao bao nhiêu xăng-ti-mét ?',\n  'query_id': '397964761f9aa6bac6ba0c87727de339',\n  'answer': {'number': '185',\n   'date': {'day': '', 'month': '', 'year': ''},\n   'spans': ''}},\n {'question': 'Hỏi cả An và Bình cao bao nhiêu xăng-ti-mét ?',\n  'query_id': '989d27cfde45d0c2526f3e69f1e5f5bd',\n  'answer': {'number': '185',\n   'date': {'day': '', 'month': '', 'year': ''},\n   'spans': ''}}]"
     },
     "execution_count": 17,
     "metadata": {},
     "output_type": "execute_result"
    }
   ],
   "source": [
    "dataset.iloc[0]['QA']"
   ]
  },
  {
   "cell_type": "code",
   "execution_count": 18,
   "metadata": {},
   "outputs": [],
   "source": [
    "def func(context: str, qas: list) -> dict:\n",
    "    for qa in qas:\n",
    "        assert 'question' in qa\n",
    "        assert 'answer' in qa\n",
    "        assert qa['question'] != ''\n",
    "        assert qa['answer']['number'] != '' or qa['answer']['date'] != '' or qa['answer']['spans'] != ''\n",
    "    res = dict()\n",
    "    res['context'] = context\n",
    "    res['qas'] = qas\n",
    "    return res"
   ]
  },
  {
   "cell_type": "markdown",
   "metadata": {},
   "source": [
    "## Exporting JSON"
   ]
  },
  {
   "cell_type": "code",
   "execution_count": 20,
   "metadata": {},
   "outputs": [],
   "source": [
    "export_ds = dataset.apply(lambda row: func(row.Context, row.QA), axis=1)\n",
    "with open('../fixtures/vimarc.json', 'w', encoding='utf-8') as file:\n",
    "    export_ds.to_json(file, force_ascii=False)"
   ]
  },
  {
   "cell_type": "code",
   "execution_count": 19,
   "metadata": {
    "pycharm": {
     "name": "#%%\n"
    }
   },
   "outputs": [
    {
     "name": "stdout",
     "output_type": "stream",
     "text": [
      "dataset_reader.ipynb  Lop2_Extend.xlsx       vimarc.json\r\n",
      "demo_allennlp.ipynb   prepare_dataset.ipynb\r\n"
     ]
    }
   ],
   "source": []
  }
 ],
 "metadata": {
  "kernelspec": {
   "display_name": "Python 3",
   "language": "python",
   "name": "python3"
  },
  "language_info": {
   "codemirror_mode": {
    "name": "ipython",
    "version": 3
   },
   "file_extension": ".py",
   "mimetype": "text/x-python",
   "name": "python",
   "nbconvert_exporter": "python",
   "pygments_lexer": "ipython3",
   "version": "3.8.3"
  },
  "nbTranslate": {
   "displayLangs": [
    "*"
   ],
   "hotkey": "alt-t",
   "langInMainMenu": true,
   "sourceLang": "en",
   "targetLang": "fr",
   "useGoogleTranslate": true
  }
 },
 "nbformat": 4,
 "nbformat_minor": 4
}